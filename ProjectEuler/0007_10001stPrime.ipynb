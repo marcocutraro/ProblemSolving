{
 "cells": [
  {
   "cell_type": "markdown",
   "id": "447ccf54",
   "metadata": {},
   "source": [
    "By listing the first six prime numbers 2,3,5,7,11 and 13, we can see that the 6th prime is 13.\n",
    "\n",
    "What is the 10001st prime number?"
   ]
  },
  {
   "cell_type": "code",
   "execution_count": 19,
   "id": "4dca8c07",
   "metadata": {},
   "outputs": [
    {
     "name": "stdout",
     "output_type": "stream",
     "text": [
      "104743\n"
     ]
    }
   ],
   "source": [
    "def primenumbers(n):\n",
    "    # prime numbers list generation\n",
    "    primenumbers = []\n",
    "    for num in range(2, n):\n",
    "        is_prime = True\n",
    "        for j in range(2, int(num ** 0.5) + 1):\n",
    "            if num % j == 0:\n",
    "                is_prime = False\n",
    "                break\n",
    "        if is_prime:\n",
    "            primenumbers.append(num)\n",
    "    return primenumbers\n",
    "\n",
    "solution = primenumbers(1000000)[10000]\n",
    "print(solution)\n"
   ]
  }
 ],
 "metadata": {
  "kernelspec": {
   "display_name": "Python 3",
   "language": "python",
   "name": "python3"
  },
  "language_info": {
   "codemirror_mode": {
    "name": "ipython",
    "version": 3
   },
   "file_extension": ".py",
   "mimetype": "text/x-python",
   "name": "python",
   "nbconvert_exporter": "python",
   "pygments_lexer": "ipython3",
   "version": "3.11.1"
  }
 },
 "nbformat": 4,
 "nbformat_minor": 5
}
