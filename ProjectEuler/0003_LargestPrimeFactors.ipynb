{
 "cells": [
  {
   "cell_type": "markdown",
   "id": "c0d425d5",
   "metadata": {},
   "source": [
    "The prime factors of 13195 are 5,7,13,29.\n",
    "\n",
    "What is the largest prime factor of the number 600851475143?"
   ]
  },
  {
   "cell_type": "code",
   "execution_count": 43,
   "id": "78f057aa",
   "metadata": {},
   "outputs": [
    {
     "name": "stdout",
     "output_type": "stream",
     "text": [
      "[71, 839, 1471, 6857]\n"
     ]
    }
   ],
   "source": [
    "def primefactorization(n):\n",
    "    # prime numbers list generation\n",
    "    primenumbers = []\n",
    "    for num in range(2, 10000):\n",
    "        is_prime = True\n",
    "        for j in range(2, int(num ** 0.5) + 1):\n",
    "            if num % j == 0:\n",
    "                is_prime = False\n",
    "                break\n",
    "        if is_prime:\n",
    "            primenumbers.append(num)\n",
    "\n",
    "    primefactors = []\n",
    "    i = 0\n",
    "\n",
    "    # prime factors list generation\n",
    "    while i < len(primenumbers):\n",
    "        while n % primenumbers[i] == 0:\n",
    "            primefactors.append(primenumbers[i])\n",
    "            n = n // primenumbers[i]\n",
    "        i += 1\n",
    "    if n > 1:\n",
    "        primefactors.append(n)\n",
    "    \n",
    "    return primefactors\n",
    "\n",
    "solution = primefactorization(600851475143)\n",
    "print(solution)"
   ]
  }
 ],
 "metadata": {
  "kernelspec": {
   "display_name": "Python 3",
   "language": "python",
   "name": "python3"
  },
  "language_info": {
   "codemirror_mode": {
    "name": "ipython",
    "version": 3
   },
   "file_extension": ".py",
   "mimetype": "text/x-python",
   "name": "python",
   "nbconvert_exporter": "python",
   "pygments_lexer": "ipython3",
   "version": "3.11.1"
  }
 },
 "nbformat": 4,
 "nbformat_minor": 5
}
