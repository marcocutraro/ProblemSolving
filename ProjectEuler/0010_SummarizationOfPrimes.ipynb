{
 "cells": [
  {
   "cell_type": "markdown",
   "id": "9bce7af8",
   "metadata": {},
   "source": [
    "The sum of the primes is 2 + 3 + 5 + 7 = 17.\n",
    "\n",
    "Find the sum of all the primes bellw two million."
   ]
  },
  {
   "cell_type": "code",
   "execution_count": 7,
   "id": "c007221f",
   "metadata": {},
   "outputs": [
    {
     "name": "stdout",
     "output_type": "stream",
     "text": [
      "142913828922\n"
     ]
    }
   ],
   "source": [
    "def primenumbers(n):\n",
    "    primenumbers = []\n",
    "    for num in range(2, n+1):\n",
    "        is_prime = True\n",
    "        for j in range(2, int(num ** 0.5) + 1):\n",
    "            if num % j == 0:\n",
    "                is_prime = False\n",
    "                break\n",
    "        # Only append if the number is still marked as prime\n",
    "        if is_prime:\n",
    "            primenumbers.append(num)\n",
    "    \n",
    "    return primenumbers\n",
    "\n",
    "solution = sum(primenumbers(2000000))\n",
    "print(solution)"
   ]
  }
 ],
 "metadata": {
  "kernelspec": {
   "display_name": "Python 3",
   "language": "python",
   "name": "python3"
  },
  "language_info": {
   "codemirror_mode": {
    "name": "ipython",
    "version": 3
   },
   "file_extension": ".py",
   "mimetype": "text/x-python",
   "name": "python",
   "nbconvert_exporter": "python",
   "pygments_lexer": "ipython3",
   "version": "3.11.1"
  }
 },
 "nbformat": 4,
 "nbformat_minor": 5
}
