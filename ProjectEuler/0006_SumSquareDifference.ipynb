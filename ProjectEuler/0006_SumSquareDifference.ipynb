{
 "cells": [
  {
   "cell_type": "markdown",
   "id": "36010152",
   "metadata": {},
   "source": [
    "The sum of the squares of the first ten natural numbers is, 1^(2) + 2^(2)+ ... + 10^(2) = 385.\n",
    "\n",
    "The square of the sum of the first ten natural numbers is, (1 + 2 + ... + 10)^2 = 55^2 = 3025.\n",
    "\n",
    "Hence the difference between the sum of the squares of the first ten natural numbers and the square of the sum is 3025 - 385 = 2640.\n",
    "\n",
    "Find the difference between the sum of the squares of the first one hundred natural numbers and the square of the sum."
   ]
  },
  {
   "cell_type": "code",
   "execution_count": 10,
   "id": "b5ab194d",
   "metadata": {},
   "outputs": [
    {
     "name": "stdout",
     "output_type": "stream",
     "text": [
      "25164150\n"
     ]
    }
   ],
   "source": [
    "def sumofsquares(n):\n",
    "    a = [x for x in range(n+1)]\n",
    "    b = []\n",
    "    for i in a:\n",
    "        n = a[i] ** 2\n",
    "        b.append(n)\n",
    "    sol = sum(b)\n",
    "    return sol\n",
    "\n",
    "def squareofsums(n):\n",
    "    a = [x for x in range(n+1)]\n",
    "    q = sum(a)\n",
    "    sol = q ** 2\n",
    "    return sol\n",
    "\n",
    "solution = squareofsums(100) - sumofsquares(100)\n",
    "print(solution)"
   ]
  }
 ],
 "metadata": {
  "kernelspec": {
   "display_name": "Python 3",
   "language": "python",
   "name": "python3"
  },
  "language_info": {
   "codemirror_mode": {
    "name": "ipython",
    "version": 3
   },
   "file_extension": ".py",
   "mimetype": "text/x-python",
   "name": "python",
   "nbconvert_exporter": "python",
   "pygments_lexer": "ipython3",
   "version": "3.11.1"
  }
 },
 "nbformat": 4,
 "nbformat_minor": 5
}
