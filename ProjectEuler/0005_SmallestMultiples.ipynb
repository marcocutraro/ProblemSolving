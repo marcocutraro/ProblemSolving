{
 "cells": [
  {
   "cell_type": "markdown",
   "id": "4c9c7f0b",
   "metadata": {},
   "source": [
    "2520 is the smallest number that can be divided by each of the numbers from 1 to 10 without any remainder.\n",
    "\n",
    "What is the smallest positive number that is evenly divisible by all of the numbers from 1 to 20?"
   ]
  },
  {
   "cell_type": "code",
   "execution_count": 38,
   "id": "b0dcac21",
   "metadata": {},
   "outputs": [
    {
     "data": {
      "text/plain": [
       "99999999"
      ]
     },
     "execution_count": 38,
     "metadata": {},
     "output_type": "execute_result"
    }
   ],
   "source": [
    "def lcm(m):\n",
    "    list = [x for x in range(1, m + 1)]\n",
    "    for n in range(1, 100000000):\n",
    "        listb = []   \n",
    "        for i in list:\n",
    "            if n % i == 0:\n",
    "                listb.append(True)\n",
    "            else:\n",
    "                listb.append(False)   \n",
    "        if len(set(listb)) == 1 and listb[0] == True:\n",
    "            break\n",
    "    return n\n",
    "\n",
    "lcm(20)\n"
   ]
  },
  {
   "cell_type": "code",
   "execution_count": 3,
   "id": "27e32fc8",
   "metadata": {},
   "outputs": [
    {
     "name": "stdout",
     "output_type": "stream",
     "text": [
      "232792560\n"
     ]
    }
   ],
   "source": [
    "def lcm(m):\n",
    "    def gcd(a, b):\n",
    "        while b:\n",
    "            a, b = b, a % b\n",
    "        return a\n",
    "    \n",
    "    result = 1\n",
    "    for i in range(2, m + 1):\n",
    "        result = (result * i) // gcd(result, i)\n",
    "    \n",
    "    return result\n",
    "\n",
    "solution = lcm(20)\n",
    "print(solution)"
   ]
  }
 ],
 "metadata": {
  "kernelspec": {
   "display_name": "Python 3",
   "language": "python",
   "name": "python3"
  },
  "language_info": {
   "codemirror_mode": {
    "name": "ipython",
    "version": 3
   },
   "file_extension": ".py",
   "mimetype": "text/x-python",
   "name": "python",
   "nbconvert_exporter": "python",
   "pygments_lexer": "ipython3",
   "version": "3.11.1"
  }
 },
 "nbformat": 4,
 "nbformat_minor": 5
}
