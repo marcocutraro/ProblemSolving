{
 "cells": [
  {
   "cell_type": "markdown",
   "id": "91c7dddf",
   "metadata": {},
   "source": [
    "A Pythagorean triplet is a set of three natural numbers, a < b < c, for which, a^2 + b^2 = c^2.\n",
    "\n",
    "For example, 3^2 4^2 = 9 + 16 = 25 = 5^2\n",
    "\n",
    "There exists exactly one Pythagorean triplet for which a + b + c = 1000.\n",
    "\n",
    "Find the product abc"
   ]
  },
  {
   "cell_type": "code",
   "execution_count": null,
   "id": "86bc3458",
   "metadata": {
    "vscode": {
     "languageId": "plaintext"
    }
   },
   "outputs": [],
   "source": []
  }
 ],
 "metadata": {
  "language_info": {
   "name": "python"
  }
 },
 "nbformat": 4,
 "nbformat_minor": 5
}
