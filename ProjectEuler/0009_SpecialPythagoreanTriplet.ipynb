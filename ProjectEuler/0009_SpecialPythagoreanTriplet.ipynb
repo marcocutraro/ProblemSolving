{
 "cells": [
  {
   "cell_type": "markdown",
   "id": "91c7dddf",
   "metadata": {},
   "source": [
    "A Pythagorean triplet is a set of three natural numbers, a < b < c, for which, a^2 + b^2 = c^2.\n",
    "\n",
    "For example, 3^2 + 4^2 = 9 + 16 = 25 = 5^2\n",
    "\n",
    "There exists exactly one Pythagorean triplet for which a + b + c = 1000.\n",
    "\n",
    "Find the product abc"
   ]
  },
  {
   "cell_type": "code",
   "execution_count": 12,
   "id": "4250c60d",
   "metadata": {},
   "outputs": [
    {
     "name": "stdout",
     "output_type": "stream",
     "text": [
      "31875000\n"
     ]
    }
   ],
   "source": [
    "def pythagoreantriplet(n):\n",
    "    for i in range(n):\n",
    "        for j in range(n):\n",
    "            for k in range(n):\n",
    "                if (i < j < k) and (i ** 2 + j ** 2 == k ** 2) and (i + j + k == n):\n",
    "                    return i * j * k\n",
    "                \n",
    "solution = pythagoreantriplet(1000)\n",
    "print(solution)"
   ]
  }
 ],
 "metadata": {
  "kernelspec": {
   "display_name": "Python 3",
   "language": "python",
   "name": "python3"
  },
  "language_info": {
   "codemirror_mode": {
    "name": "ipython",
    "version": 3
   },
   "file_extension": ".py",
   "mimetype": "text/x-python",
   "name": "python",
   "nbconvert_exporter": "python",
   "pygments_lexer": "ipython3",
   "version": "3.11.1"
  }
 },
 "nbformat": 4,
 "nbformat_minor": 5
}
