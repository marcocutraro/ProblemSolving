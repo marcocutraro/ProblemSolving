{
 "cells": [
  {
   "cell_type": "markdown",
   "id": "14c260e1",
   "metadata": {},
   "source": [
    "A palindromic number reads the same bothways. The largest plaindrome made from the product of two 2-digit numbers is 9009 = 91 * 99.\n",
    "\n",
    "Find the largest palindrome made from the product of two 3-difits numbers."
   ]
  },
  {
   "cell_type": "code",
   "execution_count": 44,
   "id": "2b5d25f8",
   "metadata": {},
   "outputs": [
    {
     "name": "stdout",
     "output_type": "stream",
     "text": [
      "906609\n"
     ]
    }
   ],
   "source": [
    "n = [x for x in range(100, 1000)]\n",
    "m = [x for x in range(100, 1000)]\n",
    "multiples = [i * j for i in n for j in m]\n",
    "\n",
    "multiples_str = [str(x) for x in multiples]\n",
    "\n",
    "def palindromes(x):\n",
    "    palindromes = []\n",
    "    for string in x:\n",
    "        if string == string[::-1]:\n",
    "            palindromes.append(string)\n",
    "    return palindromes\n",
    "\n",
    "palindromes = palindromes(multiples_str)\n",
    "palindromes_int = sorted([int(p) for p in palindromes])\n",
    "\n",
    "print(palindromes_int[-1])\n"
   ]
  }
 ],
 "metadata": {
  "kernelspec": {
   "display_name": "Python 3",
   "language": "python",
   "name": "python3"
  },
  "language_info": {
   "codemirror_mode": {
    "name": "ipython",
    "version": 3
   },
   "file_extension": ".py",
   "mimetype": "text/x-python",
   "name": "python",
   "nbconvert_exporter": "python",
   "pygments_lexer": "ipython3",
   "version": "3.11.1"
  }
 },
 "nbformat": 4,
 "nbformat_minor": 5
}
